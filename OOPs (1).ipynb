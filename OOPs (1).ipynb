{
  "nbformat": 4,
  "nbformat_minor": 0,
  "metadata": {
    "colab": {
      "provenance": []
    },
    "kernelspec": {
      "name": "python3",
      "display_name": "Python 3"
    },
    "language_info": {
      "name": "python"
    }
  },
  "cells": [
    {
      "cell_type": "markdown",
      "source": [
        "OOPS"
      ],
      "metadata": {
        "id": "I8cscd3OJ66D"
      }
    },
    {
      "cell_type": "code",
      "source": [
        "'''\n",
        "python supports - Object Oriented Program\n",
        "a Obejct in python is basically defined with a key word class is called as class\n",
        "Every class is a collection of varaibles and related methods\n",
        "''''"
      ],
      "metadata": {
        "id": "KXyjRuG6k7Nf"
      },
      "execution_count": null,
      "outputs": []
    },
    {
      "cell_type": "code",
      "execution_count": null,
      "metadata": {
        "id": "WahjkIQEbumf"
      },
      "outputs": [],
      "source": [
        "class Book: #class name of the class\n",
        "# initialization - __init__ is the first step in every class to do\n",
        "# initializations has a pre defined key word called __init__\n",
        "# varaiable that are used in different methods are initialized in the __init__ method\n",
        "# initialization first step - below\n",
        " def __init__(self,title,quantity,auther,price):\n",
        "  self.title = title\n",
        "  self.quantity = quantity\n",
        "  self.auther = auther\n",
        "  self.price = price\n",
        "  self.__discount = 0.15\n",
        "# two underscore for encapsulations.\n",
        "# to access this getter and setter methods\n",
        "# setter method modifies the hidden variables.\n",
        " def set_discount(self,discount):\n",
        "  self.__discount = discount\n",
        "## getter method\n",
        " def get_price(self):\n",
        "   self.price= self.price*self.quantity*(1-self.__discount)\n",
        "\n",
        " def printtitle(self):\n",
        "  print(self.title)\n",
        " def printrevnue(self):\n",
        "  print(self.price*self.quantity)\n",
        "# here __repr__ prints\n",
        " def __repr__(self): # used for print statements & when you give directly it will give memory location.\n",
        "  return f\"Book:{self.title},quantity:{self.quantity},discount:{self.__discount}, end price:{self.price}\""
      ]
    },
    {
      "cell_type": "code",
      "source": [
        "book1 = Book(\"Moon light - 1\",10,\"naveen\",250)\n",
        "# One single class object can be used for multiple instances\n",
        "book2 = Book(\"Moon light - 2\",20,\"anil\",200)\n",
        "book3 = Book(\"Moon light - 3\",40,\"ajay\",400)\n",
        "book1\n"
      ],
      "metadata": {
        "colab": {
          "base_uri": "https://localhost:8080/"
        },
        "id": "pHGaHUl-b322",
        "outputId": "c4cbfce9-588c-4ff6-e212-746fb104a681"
      },
      "execution_count": null,
      "outputs": [
        {
          "output_type": "execute_result",
          "data": {
            "text/plain": [
              "Book:Moon light - 1,quantity:10,discount:0.15, end price:250"
            ]
          },
          "metadata": {},
          "execution_count": 7
        }
      ]
    },
    {
      "cell_type": "code",
      "source": [
        "book"
      ],
      "metadata": {
        "colab": {
          "base_uri": "https://localhost:8080/"
        },
        "id": "C6Js2qrQHX-k",
        "outputId": "d5ebca71-c0e8-4e86-c314-e63cfec0d2a3"
      },
      "execution_count": null,
      "outputs": [
        {
          "output_type": "execute_result",
          "data": {
            "text/plain": [
              "Book:Moon light,quantity:10,discount:0.25, end price:187.5"
            ]
          },
          "metadata": {},
          "execution_count": 84
        }
      ]
    },
    {
      "cell_type": "markdown",
      "source": [
        "Encapsulation"
      ],
      "metadata": {
        "id": "ZzyQN0e36yL6"
      }
    },
    {
      "cell_type": "code",
      "source": [
        "# for hiding few varabiles to not to see by user and these variables accessed by only few methods can access it this\n",
        "# this process is called as encapsulation"
      ],
      "metadata": {
        "id": "7n9vRSB3ZCt-"
      },
      "execution_count": null,
      "outputs": []
    },
    {
      "cell_type": "code",
      "source": [
        "'''\n",
        "Spuer Market\n",
        "(vegetables,fruits, chocolates) - price, quantity and discount\n",
        "set for discount individual\n",
        "get the peice\n",
        "'''\n"
      ],
      "metadata": {
        "id": "A5HGXtmu6xxX"
      },
      "execution_count": null,
      "outputs": []
    },
    {
      "cell_type": "code",
      "source": [
        "class supermarket:\n",
        "  def __init__(self,vegetables_price,vegetables_quantity,fruits_price,fruits_quantity,chocolates_price,chocolates_quantity):\n",
        "    self.vegetables_price = vegetables_price\n",
        "    self.vegetables_quantity = vegetables_quantity\n",
        "    self.fruits_price = fruits_price\n",
        "    self.fruits_quantity = fruits_quantity\n",
        "    self.chocolates_price = chocolates_price\n",
        "    self.chocolates_quantity = chocolates_quantity\n",
        "    self.__discount_vegetables = 0.25\n",
        "    self.__discount_fruits = 0.10\n",
        "    self.__discount_chocolates = 0.23\n",
        "  def set_discount(self,discount_vegetables,discount_fruits,discount_chocolates):\n",
        "    self.__discount_vegetables = discount_vegetables\n",
        "    self.__discount_fruits = discount_fruits\n",
        "    self.__discount_chocolates = discount_chocolates\n",
        "  def get_price(self):\n",
        "    self.cost_vegprice = self.vegetables_price*self.vegetables_quantity*(1-self.__discount_vegetables)\n",
        "    self.discount_fruit_price = self.fruits_price*self.fruits_quantity*(1-self.__discount_fruits)\n",
        "    self.discount_cho_price = self.chocolates_price*self.chocolates_quantity*(1-self.__discount_chocolates)\n",
        "    return f\"price after didection of discount on veg :{self.cost_vegprice},discounted price on fruits :{self.discount_fruit_price},discounted price on chocolates :{self.discount_cho_price}\"\n",
        "  def __repr__(self):\n",
        "    return f\"cost price of veg, fruit, choco: {self.cost_vegprice},{self.discount_fruit_price}, {self.discount_cho_price}\""
      ],
      "metadata": {
        "id": "OPLHcOuVIw7C"
      },
      "execution_count": null,
      "outputs": []
    },
    {
      "cell_type": "code",
      "source": [
        "market = supermarket(100,20,40,30,200,30)\n",
        "print(market.get_price())\n",
        "market"
      ],
      "metadata": {
        "colab": {
          "base_uri": "https://localhost:8080/"
        },
        "id": "JplKQmHyN-ua",
        "outputId": "90d18cc9-a943-45dc-eb4e-3c09c2853318"
      },
      "execution_count": null,
      "outputs": [
        {
          "output_type": "stream",
          "name": "stdout",
          "text": [
            "price after didection of discount price on veg :1500.0,discounted price on fruits :1080.0,discounted price on chocolates :4620.0\n"
          ]
        },
        {
          "output_type": "execute_result",
          "data": {
            "text/plain": [
              "cost price of veg, fruit, choco: 1500.0,1080.0, 4620.0"
            ]
          },
          "metadata": {},
          "execution_count": 130
        }
      ]
    },
    {
      "cell_type": "code",
      "source": [
        "\n",
        "market"
      ],
      "metadata": {
        "colab": {
          "base_uri": "https://localhost:8080/"
        },
        "id": "ySDaRIuuOhSI",
        "outputId": "7993eb16-2c6c-4323-a28c-6516a93f2c23"
      },
      "execution_count": null,
      "outputs": [
        {
          "output_type": "execute_result",
          "data": {
            "text/plain": [
              "cost price of veg, fruit, choco: 1500.0,1080.0, 4620.0"
            ]
          },
          "metadata": {},
          "execution_count": 121
        }
      ]
    },
    {
      "cell_type": "code",
      "source": [
        "class name:\n",
        "  def __init__(self,Name,colour,height):\n",
        "    self.Name = Name\n",
        "    self.colour = colour\n",
        "    self.height = height\n",
        "  def set_height(self,Name,colour,height):\n",
        "    self.height = height\n",
        "  def get_details(self):\n",
        "    self.Name = self.Name + self.colour\n",
        "  def __repr__(self):\n",
        "    return f\"name : {self.Name}, colour : {self.colour}, height : {self.height}\""
      ],
      "metadata": {
        "id": "Id2Ir6KLb2bX"
      },
      "execution_count": null,
      "outputs": []
    },
    {
      "cell_type": "code",
      "source": [
        "Name = name(\"Naveen\",\"white\",172)\n",
        "Name.get_details()\n",
        "Name.set_height(\"Naveen\",\"white\",170)\n",
        "Name"
      ],
      "metadata": {
        "colab": {
          "base_uri": "https://localhost:8080/"
        },
        "id": "nCN7sXsbDZPy",
        "outputId": "47e6c683-9f4d-413d-dca5-de252e4ca093"
      },
      "execution_count": null,
      "outputs": [
        {
          "output_type": "execute_result",
          "data": {
            "text/plain": [
              "name : Naveenwhite, colour : white, height : 170"
            ]
          },
          "metadata": {},
          "execution_count": 42
        }
      ]
    },
    {
      "cell_type": "code",
      "source": [
        "Name.set_height(\"Naveen\",\"white\",170)\n",
        "name"
      ],
      "metadata": {
        "colab": {
          "base_uri": "https://localhost:8080/"
        },
        "id": "f9MPf0hwDmhv",
        "outputId": "162b6dee-8a7f-4473-a34a-c1b0820b3dba"
      },
      "execution_count": null,
      "outputs": [
        {
          "output_type": "execute_result",
          "data": {
            "text/plain": [
              "__main__.name"
            ]
          },
          "metadata": {},
          "execution_count": 40
        }
      ]
    },
    {
      "cell_type": "code",
      "source": [
        "Name"
      ],
      "metadata": {
        "colab": {
          "base_uri": "https://localhost:8080/"
        },
        "id": "sdL_V9smGuDA",
        "outputId": "5c6dc30c-facb-4e14-9f5f-c125951b4f85"
      },
      "execution_count": null,
      "outputs": [
        {
          "output_type": "execute_result",
          "data": {
            "text/plain": [
              "name : Naveen, colour : white, height : 170"
            ]
          },
          "metadata": {},
          "execution_count": 25
        }
      ]
    },
    {
      "cell_type": "code",
      "source": [
        "book1 = (2,3,4,5)\n",
        "book1\n"
      ],
      "metadata": {
        "id": "_nIU7_UXGwlX",
        "colab": {
          "base_uri": "https://localhost:8080/"
        },
        "outputId": "b821e18a-a4d7-46ef-92ad-ec3f982bdaa7"
      },
      "execution_count": null,
      "outputs": [
        {
          "output_type": "execute_result",
          "data": {
            "text/plain": [
              "(2, 3, 4, 5)"
            ]
          },
          "metadata": {},
          "execution_count": 59
        }
      ]
    },
    {
      "cell_type": "code",
      "source": [],
      "metadata": {
        "id": "QdbW7H2ipf0G"
      },
      "execution_count": null,
      "outputs": []
    },
    {
      "cell_type": "markdown",
      "source": [
        "Inheritance"
      ],
      "metadata": {
        "id": "BRPqAa6bpj2F"
      }
    },
    {
      "cell_type": "code",
      "source": [
        "'''\n",
        "Ability of the class to inherit methods or properties form another class\n",
        "\n",
        "class 1 - Methods - parents class\n",
        "class 2 - Use those methods defined in class 1 into class 2 - child class\n",
        "'''\n"
      ],
      "metadata": {
        "id": "7DHxfrFlptyz"
      },
      "execution_count": null,
      "outputs": []
    },
    {
      "cell_type": "code",
      "source": [
        "## parent class\n",
        "class Book:\n",
        "  def __init__(self,title,quantity,author,price):\n",
        "    self.title = title\n",
        "    self.quantity = quantity\n",
        "    self.author = author\n",
        "    self.price = price\n",
        "    self.__discount = None\n",
        "  def set_discount(self,discount):\n",
        "    self.__discount = discount\n",
        "\n",
        "  def get_price(self):\n",
        "    return self.price*(1-self.__discount)\n",
        "\n",
        "  def __repr__(self):\n",
        "    return f\"book : {self.title}, quantity : {self.quantity}, author : {self.author}, price : {self.price}\"\n"
      ],
      "metadata": {
        "id": "rbxTmzJxqSJX"
      },
      "execution_count": null,
      "outputs": []
    },
    {
      "cell_type": "code",
      "source": [
        "## child class\n",
        "class Novel(Book): # childclassname(parentclassname)\n",
        "  def __init__(self,title,quantity,author,price):\n",
        "## means that it will take all the initializations of the parent class\n",
        "    super().__init__(title,quantity,author,price)\n",
        "## child class\n",
        "class Academic(Book):\n",
        "  def __init__(self,title,quantity,author,price,branch): # branch addiition attributes\n",
        "    super().__init__(title,quantity,author,price,branch)\n",
        "    self.branch = branch\n",
        "  def __repr__(self):\n",
        "    return f\"book : {self.title}, quantity : {self.quantity}, price : {self.__price}, branch : {self.branch}\"\n"
      ],
      "metadata": {
        "id": "aRq9Om_Qrl4F"
      },
      "execution_count": null,
      "outputs": []
    },
    {
      "cell_type": "code",
      "source": [
        "academic1 = Academic(\"naveen\",20,\"anil\",340,\"mech\")"
      ],
      "metadata": {
        "id": "2ho1nrAZsWjh",
        "colab": {
          "base_uri": "https://localhost:8080/",
          "height": 314
        },
        "outputId": "fdcfbb5f-e93e-431c-fbcb-e9dd9703834d"
      },
      "execution_count": null,
      "outputs": [
        {
          "output_type": "error",
          "ename": "TypeError",
          "evalue": "ignored",
          "traceback": [
            "\u001b[0;31m---------------------------------------------------------------------------\u001b[0m",
            "\u001b[0;31mTypeError\u001b[0m                                 Traceback (most recent call last)",
            "\u001b[0;32m<ipython-input-15-c9c9e8b2848d>\u001b[0m in \u001b[0;36m<cell line: 1>\u001b[0;34m()\u001b[0m\n\u001b[0;32m----> 1\u001b[0;31m \u001b[0macademic1\u001b[0m \u001b[0;34m=\u001b[0m \u001b[0mAcademic\u001b[0m\u001b[0;34m(\u001b[0m\u001b[0;34m\"naveen\"\u001b[0m\u001b[0;34m,\u001b[0m\u001b[0;36m20\u001b[0m\u001b[0;34m,\u001b[0m\u001b[0;34m\"anil\"\u001b[0m\u001b[0;34m,\u001b[0m\u001b[0;36m340\u001b[0m\u001b[0;34m,\u001b[0m\u001b[0;34m\"mech\"\u001b[0m\u001b[0;34m)\u001b[0m\u001b[0;34m\u001b[0m\u001b[0;34m\u001b[0m\u001b[0m\n\u001b[0m",
            "\u001b[0;32m<ipython-input-14-1da482a7ea94>\u001b[0m in \u001b[0;36m__init__\u001b[0;34m(self, title, quantity, author, price, branch)\u001b[0m\n\u001b[1;32m      7\u001b[0m \u001b[0;32mclass\u001b[0m \u001b[0mAcademic\u001b[0m\u001b[0;34m(\u001b[0m\u001b[0mBook\u001b[0m\u001b[0;34m)\u001b[0m\u001b[0;34m:\u001b[0m\u001b[0;34m\u001b[0m\u001b[0;34m\u001b[0m\u001b[0m\n\u001b[1;32m      8\u001b[0m   \u001b[0;32mdef\u001b[0m \u001b[0m__init__\u001b[0m\u001b[0;34m(\u001b[0m\u001b[0mself\u001b[0m\u001b[0;34m,\u001b[0m\u001b[0mtitle\u001b[0m\u001b[0;34m,\u001b[0m\u001b[0mquantity\u001b[0m\u001b[0;34m,\u001b[0m\u001b[0mauthor\u001b[0m\u001b[0;34m,\u001b[0m\u001b[0mprice\u001b[0m\u001b[0;34m,\u001b[0m\u001b[0mbranch\u001b[0m\u001b[0;34m)\u001b[0m\u001b[0;34m:\u001b[0m\u001b[0;34m\u001b[0m\u001b[0;34m\u001b[0m\u001b[0m\n\u001b[0;32m----> 9\u001b[0;31m     \u001b[0msuper\u001b[0m\u001b[0;34m(\u001b[0m\u001b[0;34m)\u001b[0m\u001b[0;34m.\u001b[0m\u001b[0m__init__\u001b[0m\u001b[0;34m(\u001b[0m\u001b[0mtitle\u001b[0m\u001b[0;34m,\u001b[0m\u001b[0mquantity\u001b[0m\u001b[0;34m,\u001b[0m\u001b[0mauthor\u001b[0m\u001b[0;34m,\u001b[0m\u001b[0mprice\u001b[0m\u001b[0;34m,\u001b[0m\u001b[0mbranch\u001b[0m\u001b[0;34m)\u001b[0m\u001b[0;34m\u001b[0m\u001b[0;34m\u001b[0m\u001b[0m\n\u001b[0m\u001b[1;32m     10\u001b[0m     \u001b[0mself\u001b[0m\u001b[0;34m.\u001b[0m\u001b[0mbarnch\u001b[0m \u001b[0;34m=\u001b[0m \u001b[0mbranch\u001b[0m\u001b[0;34m\u001b[0m\u001b[0;34m\u001b[0m\u001b[0m\n\u001b[1;32m     11\u001b[0m \u001b[0;34m\u001b[0m\u001b[0m\n",
            "\u001b[0;31mTypeError\u001b[0m: Book.__init__() takes 5 positional arguments but 6 were given"
          ]
        }
      ]
    },
    {
      "cell_type": "code",
      "source": [
        "print(novel)"
      ],
      "metadata": {
        "colab": {
          "base_uri": "https://localhost:8080/"
        },
        "id": "_nm-W9DDrM65",
        "outputId": "c6386e14-7b4d-41b3-c53c-dccef1b1c386"
      },
      "execution_count": null,
      "outputs": [
        {
          "output_type": "stream",
          "name": "stdout",
          "text": [
            "book : naveen, quantity : 20, author : anil, price : 340\n"
          ]
        }
      ]
    },
    {
      "cell_type": "code",
      "source": [
        "novel.get_price()"
      ],
      "metadata": {
        "colab": {
          "base_uri": "https://localhost:8080/"
        },
        "id": "WEMe72K-rgQY",
        "outputId": "3309450c-013a-4e13-8e8f-61de649760cd"
      },
      "execution_count": null,
      "outputs": [
        {
          "output_type": "execute_result",
          "data": {
            "text/plain": [
              "255.0"
            ]
          },
          "metadata": {},
          "execution_count": 6
        }
      ]
    },
    {
      "cell_type": "markdown",
      "source": [
        "Polymorphism"
      ],
      "metadata": {
        "id": "CHceemO7sshA"
      }
    },
    {
      "cell_type": "code",
      "source": [
        "'''\n",
        "refers to the childclass ability to adapt to a method alreday present in the parent class with modifications\n",
        "'''"
      ],
      "metadata": {
        "id": "CUnYav600uW4"
      },
      "execution_count": null,
      "outputs": []
    },
    {
      "cell_type": "code",
      "source": [
        "## parent class\n",
        "class Book:\n",
        "  def __init__(self,title,quantity,author,price):\n",
        "    self.title = title\n",
        "    self.quantity = quantity\n",
        "    self.author = author\n",
        "    self.__price = price\n",
        "    self.__discount = None\n",
        "  def set_discount(self,discount):\n",
        "    self.__discount = discount\n",
        "  def get_price(self):\n",
        "    return self.__price*(1-self.__discount)\n",
        "  def __repr__(self):\n",
        "    return f\"book : {self.title}, quantity : {self.quantity}, author : {self.author}\"\n"
      ],
      "metadata": {
        "id": "IAbKUlnzuXlO"
      },
      "execution_count": 24,
      "outputs": []
    },
    {
      "cell_type": "code",
      "source": [
        "## child class\n",
        "class Novel(Book): #childclassname(parentsclassname)\n",
        "\n",
        "  def __init__(self,title,quantity,author,price):\n",
        "    super().__init__(title,quantity,author,price) ## ,eans that it will takes all the initiliazation of the parent class\n",
        "\n",
        "## child class\n",
        "class Academic(Book):\n",
        "\n",
        "  def __init__(self,title,quantity,author,price,branch): # addition attributes\n",
        "    super().__init__(title,quantity,author,price)\n",
        "    self.barnch = branch\n",
        "\n",
        "def __repr__(self):\n",
        "  return f\"book : {self.title}, quantity : {self.quantity}, author : {self.author} , barnch : {self.branch}\""
      ],
      "metadata": {
        "id": "pquJuZVE5Pjz"
      },
      "execution_count": 25,
      "outputs": []
    },
    {
      "cell_type": "code",
      "source": [
        "academic1 = Academic(\"naveen\",30,\"anil\",200,\"mech\")"
      ],
      "metadata": {
        "id": "oYPeBa9GAKHn"
      },
      "execution_count": 26,
      "outputs": []
    },
    {
      "cell_type": "code",
      "source": [
        "print(academic1)"
      ],
      "metadata": {
        "colab": {
          "base_uri": "https://localhost:8080/"
        },
        "id": "ghZimb_-D86L",
        "outputId": "f8bf413a-5645-4693-931d-40c587a0742f"
      },
      "execution_count": 27,
      "outputs": [
        {
          "output_type": "stream",
          "name": "stdout",
          "text": [
            "book : naveen, quantity : 30, author : anil\n"
          ]
        }
      ]
    },
    {
      "cell_type": "code",
      "source": [
        "## PARENT CLASS\n",
        "\n",
        "class Book:\n",
        "\n",
        "  def __init__(self,title,quantity,author,price):\n",
        "    self.title = title\n",
        "    self.quantity = quantity\n",
        "    self.author = author\n",
        "    self.__price = price\n",
        "    self.__discount = None\n",
        "\n",
        "  def set_discount(self,discount):\n",
        "    self.__discount = discount\n",
        "\n",
        "  def get_price(self):\n",
        "    return self.__price*(1-self.__discount)\n",
        "\n",
        "  def __repr__(self):\n",
        "    return f\"Book : {self.title}, Quantity : {self.quantity}, Author : {self.author}\"\n"
      ],
      "metadata": {
        "id": "eDtiLMxa2Iv3"
      },
      "execution_count": 45,
      "outputs": []
    },
    {
      "cell_type": "code",
      "source": [
        "## CHILD CLASS\n",
        "class Novel(Book): #childclassname(parentclassname)\n",
        "\n",
        "  def __init__(self,title,quantity,author,price,name):\n",
        "    super().__init__(title,quantity,author,price) ##means that it will take all the initializations of the parent class\n",
        "\n",
        "## CHILD CLASS\n",
        "class Academic(Book):\n",
        "\n",
        "  def __init__(self,title,quantity,author,price,branch): #addition attributes\n",
        "    super().__init__(title,quantity,author,price)\n",
        "    self.branch = branch\n",
        "\n",
        "  def __repr__(self):\n",
        "    return f\"Book : {self.title}, Quantity : {self.quantity}, Author : {self.author}, Branch : {self.branch}\"\n"
      ],
      "metadata": {
        "id": "-wHM5OTB2MO1"
      },
      "execution_count": 46,
      "outputs": []
    },
    {
      "cell_type": "code",
      "source": [
        "academic1 = Academic(\"Two States\",20,\"Chetan Bhagath\",200,\"MBA-HR\")"
      ],
      "metadata": {
        "id": "AUupft4T2SkD"
      },
      "execution_count": 47,
      "outputs": []
    },
    {
      "cell_type": "code",
      "source": [
        "print(academic1)"
      ],
      "metadata": {
        "colab": {
          "base_uri": "https://localhost:8080/"
        },
        "id": "Bl56m0Ud2Xwn",
        "outputId": "4e9bd24e-56ee-47e0-d602-c3f900fd14c0"
      },
      "execution_count": 16,
      "outputs": [
        {
          "output_type": "stream",
          "name": "stdout",
          "text": [
            "Book : Two States, Quantity : 20, Author : Chetan Bhagath, Branch : MBA-HR\n"
          ]
        }
      ]
    },
    {
      "cell_type": "code",
      "source": [
        "novel1 = Novel(\"Two States\",20,\"Chetan Bhagath\",200,\"naveen\")\n",
        "print(novel1)"
      ],
      "metadata": {
        "colab": {
          "base_uri": "https://localhost:8080/"
        },
        "id": "XG_Ehxin3yix",
        "outputId": "04e9947f-ba7b-4d5c-d723-21f7b1082846"
      },
      "execution_count": 35,
      "outputs": [
        {
          "output_type": "stream",
          "name": "stdout",
          "text": [
            "Book : Two States, Quantity : 20, Author : Chetan Bhagath, name : naveen\n"
          ]
        }
      ]
    },
    {
      "cell_type": "markdown",
      "source": [
        "Abstraction"
      ],
      "metadata": {
        "id": "Uuk-vuBh4t5H"
      }
    },
    {
      "cell_type": "code",
      "source": [
        "'''\n",
        "1. Isn't directly supported by python = from abc import ABC, abstractmethod\n",
        "2. If an abstract method is declared in the parent class, then every child class should have the implementation of it.\n",
        "'''"
      ],
      "metadata": {
        "id": "ipkemNmn5B1f"
      },
      "execution_count": null,
      "outputs": []
    },
    {
      "cell_type": "code",
      "source": [
        "from abc import ABC, abstractmethod\n",
        "class Book(ABC):\n",
        "  def __init__(self,title,quantity,author,price):\n",
        "    self.title = title\n",
        "    self.quantity = quantity\n",
        "    self.author = author\n",
        "    self.__price = price\n",
        "    self.__discount = None\n",
        "  def set_discount(self,discount):\n",
        "    self.__discount = discount\n",
        "  def get_price(self):\n",
        "    return self.__price*(1-self.__discount)\n",
        "  @abstractmethod\n",
        "  def __repr__(self):\n",
        "    return f\"Book : {self.title}, Quantity : {self.quantity}, Author : {self.author}\""
      ],
      "metadata": {
        "id": "MxTcHZup5yLT"
      },
      "execution_count": 38,
      "outputs": []
    },
    {
      "cell_type": "code",
      "source": [
        "## child class\n",
        "class Novel(Book): #childclassname(parentclassname)\n",
        "  def __init__(self,title,quantity,author,price,pages):\n",
        "    super().__init__(title,quantity,author,price)\n",
        "    self.pages = pages\n",
        "  def __repr__(self):\n",
        "    return f\"Book : {self.title}, Quantity : {self.quantity}, Author : {self.author}, Pages : {self.pages}\""
      ],
      "metadata": {
        "id": "2bl8i5g27eQH"
      },
      "execution_count": 40,
      "outputs": []
    },
    {
      "cell_type": "code",
      "source": [
        "novel1 = Novel(\"naveen\",20,\"anil\",300,400)\n",
        "print(novel1)"
      ],
      "metadata": {
        "colab": {
          "base_uri": "https://localhost:8080/"
        },
        "id": "vdLFSSYQ8SiH",
        "outputId": "611c2e28-d446-487a-eff9-5aaa8eb6ea3a"
      },
      "execution_count": 43,
      "outputs": [
        {
          "output_type": "stream",
          "name": "stdout",
          "text": [
            "Book : naveen, Quantity : 20, Author : anil, Pages : 400\n"
          ]
        }
      ]
    },
    {
      "cell_type": "code",
      "source": [
        "## CHILD CLASS\n",
        "class Academic(Book):\n",
        "\n",
        "  def __init__(self,title,quantity,author,price,branch): #addition attributes\n",
        "    super().__init__(title,quantity,author,price)\n",
        "    self.branch = branch\n",
        "\n",
        "  def __repr__(self):\n",
        "    return f\"Book : {self.title}, Quantity : {self.quantity}, Author : {self.author}, Branch : {self.branch}\""
      ],
      "metadata": {
        "id": "_G76ppU69Mwe"
      },
      "execution_count": 49,
      "outputs": []
    },
    {
      "cell_type": "code",
      "source": [
        "academic1 = Academic(\"Two States\",20,\"Chetan Bhagath\",200,\"MBA-HR\")\n",
        "print(academic1)"
      ],
      "metadata": {
        "colab": {
          "base_uri": "https://localhost:8080/"
        },
        "id": "yyVI7omE9S3-",
        "outputId": "80d2b36c-44c8-4f65-b4c5-3388d8a6f595"
      },
      "execution_count": 50,
      "outputs": [
        {
          "output_type": "stream",
          "name": "stdout",
          "text": [
            "Book : Two States, Quantity : 20, Author : Chetan Bhagath, Branch : MBA-HR\n"
          ]
        }
      ]
    },
    {
      "cell_type": "markdown",
      "source": [
        "args and kwargs"
      ],
      "metadata": {
        "id": "H-XLuTe59cjR"
      }
    },
    {
      "cell_type": "code",
      "source": [
        "'''\n",
        "*args and **kwargs - helps in passing variable number of arguments to a function\n",
        "*args - Non keyword argument\n",
        "**kwargs - keyword arguments\n",
        "'''"
      ],
      "metadata": {
        "id": "mefFTNl19fsF"
      },
      "execution_count": null,
      "outputs": []
    },
    {
      "cell_type": "code",
      "source": [
        "def myfun(*args):\n",
        "  for arg in args:\n",
        "    print(arg)"
      ],
      "metadata": {
        "id": "sLcsWAnq-COU"
      },
      "execution_count": 51,
      "outputs": []
    },
    {
      "cell_type": "code",
      "source": [
        "myfun(\"hello\",\"welcome\")"
      ],
      "metadata": {
        "colab": {
          "base_uri": "https://localhost:8080/"
        },
        "id": "nW6snIi9-NAz",
        "outputId": "93acd223-53c1-49cd-c4a8-b156314db0eb"
      },
      "execution_count": 52,
      "outputs": [
        {
          "output_type": "stream",
          "name": "stdout",
          "text": [
            "hello\n",
            "welcome\n"
          ]
        }
      ]
    },
    {
      "cell_type": "code",
      "source": [
        "def myFunc(arg1,*args):\n",
        "  print(arg1)\n",
        "  for arg in args:\n",
        "    print(arg)"
      ],
      "metadata": {
        "id": "TkKFxMZC-V-a"
      },
      "execution_count": 53,
      "outputs": []
    },
    {
      "cell_type": "code",
      "source": [
        "myfun(1,2,3,4,5,6,7)"
      ],
      "metadata": {
        "colab": {
          "base_uri": "https://localhost:8080/"
        },
        "id": "pZAE5Q6p-a49",
        "outputId": "649a3b92-6b3b-4e9f-c1fa-d1627356aae4"
      },
      "execution_count": 54,
      "outputs": [
        {
          "output_type": "stream",
          "name": "stdout",
          "text": [
            "1\n",
            "2\n",
            "3\n",
            "4\n",
            "5\n",
            "6\n",
            "7\n"
          ]
        }
      ]
    },
    {
      "cell_type": "code",
      "source": [
        "## kwargs - keyword arguments\n",
        "def myfun(**kwargs):\n",
        "  for key, value in kwargs.items():\n",
        "    print(key,value)"
      ],
      "metadata": {
        "id": "3Ye8Vlf2-fgb"
      },
      "execution_count": 55,
      "outputs": []
    },
    {
      "cell_type": "code",
      "source": [
        "myfun(firstname=\"badavath\",secondname=\"naveen\",thirtname=\"naik\")"
      ],
      "metadata": {
        "colab": {
          "base_uri": "https://localhost:8080/"
        },
        "id": "wrrDaapt-xU9",
        "outputId": "0664cf93-cffb-4ddb-e606-30d79d342b1e"
      },
      "execution_count": 63,
      "outputs": [
        {
          "output_type": "stream",
          "name": "stdout",
          "text": [
            "firstname badavath\n",
            "secondname naveen\n",
            "thirtname naik\n"
          ]
        }
      ]
    },
    {
      "cell_type": "code",
      "source": [
        "def myFun(arg1, **kwargs):\n",
        "\tfor key, value in kwargs.items():\n",
        "\t\tprint(\"%s == %s\" % (key, value))\n",
        "\n",
        "\n",
        "# Driver code\n",
        "myFun(\"Hi\", first=\"badavth\",Second=\"naveen\",Last=\"naik\")"
      ],
      "metadata": {
        "colab": {
          "base_uri": "https://localhost:8080/"
        },
        "id": "dbG8BoOF_aT4",
        "outputId": "ae54e76c-98c9-4fd2-a8a9-c3f8b4339fb9"
      },
      "execution_count": 65,
      "outputs": [
        {
          "output_type": "stream",
          "name": "stdout",
          "text": [
            "first == badavth\n",
            "Second == naveen\n",
            "Last == naik\n"
          ]
        }
      ]
    },
    {
      "cell_type": "code",
      "source": [
        "def myFun(*args, **kwargs):\n",
        "    print(\"args: \", args)\n",
        "    print(\"kwargs: \", kwargs)\n",
        "\n",
        "myFun(\"Hello\",\"Welcome\", first=\"badavath\",Second=\"naveen\")"
      ],
      "metadata": {
        "colab": {
          "base_uri": "https://localhost:8080/"
        },
        "id": "lGcKfysv_yil",
        "outputId": "860abf20-832f-4792-b1c9-96c1e9970fc5"
      },
      "execution_count": 67,
      "outputs": [
        {
          "output_type": "stream",
          "name": "stdout",
          "text": [
            "args:  ('Hello', 'Welcome')\n",
            "kwargs:  {'first': 'badavath', 'Second': 'naveen'}\n"
          ]
        }
      ]
    },
    {
      "cell_type": "markdown",
      "source": [
        "Method Overloading"
      ],
      "metadata": {
        "id": "V1nrwPVpAAz8"
      }
    },
    {
      "cell_type": "code",
      "source": [
        "class Calculator:\n",
        "\n",
        "  def __init__(self):\n",
        "    pass\n",
        "\n",
        "  def add(self,x,y):\n",
        "    return x+y\n",
        "\n",
        "  def add(self,x,y,z):\n",
        "    return x+y+z"
      ],
      "metadata": {
        "id": "gxwQ7QW6AD-N"
      },
      "execution_count": 68,
      "outputs": []
    },
    {
      "cell_type": "code",
      "source": [
        "cal = Calculator()\n",
        "cal.add(1,2) @args and kwargs"
      ],
      "metadata": {
        "colab": {
          "base_uri": "https://localhost:8080/",
          "height": 192
        },
        "id": "crgmD6ggAIc_",
        "outputId": "863ee8b9-32be-4dfc-8c57-6d755eb96e84"
      },
      "execution_count": 69,
      "outputs": [
        {
          "output_type": "error",
          "ename": "TypeError",
          "evalue": "ignored",
          "traceback": [
            "\u001b[0;31m---------------------------------------------------------------------------\u001b[0m",
            "\u001b[0;31mTypeError\u001b[0m                                 Traceback (most recent call last)",
            "\u001b[0;32m<ipython-input-69-556359cbd37b>\u001b[0m in \u001b[0;36m<cell line: 2>\u001b[0;34m()\u001b[0m\n\u001b[1;32m      1\u001b[0m \u001b[0mcal\u001b[0m \u001b[0;34m=\u001b[0m \u001b[0mCalculator\u001b[0m\u001b[0;34m(\u001b[0m\u001b[0;34m)\u001b[0m\u001b[0;34m\u001b[0m\u001b[0;34m\u001b[0m\u001b[0m\n\u001b[0;32m----> 2\u001b[0;31m \u001b[0mcal\u001b[0m\u001b[0;34m.\u001b[0m\u001b[0madd\u001b[0m\u001b[0;34m(\u001b[0m\u001b[0;36m1\u001b[0m\u001b[0;34m,\u001b[0m\u001b[0;36m2\u001b[0m\u001b[0;34m)\u001b[0m \u001b[0;34m@\u001b[0m\u001b[0margs\u001b[0m \u001b[0;32mand\u001b[0m \u001b[0mkwargs\u001b[0m\u001b[0;34m\u001b[0m\u001b[0;34m\u001b[0m\u001b[0m\n\u001b[0m",
            "\u001b[0;31mTypeError\u001b[0m: Calculator.add() missing 1 required positional argument: 'z'"
          ]
        }
      ]
    },
    {
      "cell_type": "markdown",
      "source": [
        "Method overriding"
      ],
      "metadata": {
        "id": "9D6Z1FfDJ4IA"
      }
    },
    {
      "cell_type": "code",
      "source": [
        "class Parentclass:\n",
        "  def __init__(self):\n",
        "    pass\n",
        "  def call_me(self):\n",
        "    print(\"Call me Parent Class\")\n",
        "\n",
        "class Childclass(Parentclass):\n",
        "  def __init__(self):\n",
        "    super().__init__()\n",
        "    pass\n",
        "\n",
        "  def call_me(self):\n",
        "    print(\"Call me Child class\")\n",
        "    super().call_me()"
      ],
      "metadata": {
        "id": "T-nAkKoGJ8X1"
      },
      "execution_count": 70,
      "outputs": []
    },
    {
      "cell_type": "code",
      "source": [
        "par = Parentclass()\n",
        "par.call_me()"
      ],
      "metadata": {
        "colab": {
          "base_uri": "https://localhost:8080/"
        },
        "id": "0q_4DXHiAXKU",
        "outputId": "20e02267-b4b9-40b4-9240-b08601f5c8bc"
      },
      "execution_count": 71,
      "outputs": [
        {
          "output_type": "stream",
          "name": "stdout",
          "text": [
            "Call me Parent Class\n"
          ]
        }
      ]
    },
    {
      "cell_type": "code",
      "source": [
        "chilclass = Childclass()\n",
        "chilclass.call_me()"
      ],
      "metadata": {
        "colab": {
          "base_uri": "https://localhost:8080/"
        },
        "id": "1MdF179pAjRe",
        "outputId": "43c3c14c-d9f0-477d-df30-61e775a498f5"
      },
      "execution_count": 72,
      "outputs": [
        {
          "output_type": "stream",
          "name": "stdout",
          "text": [
            "Call me Child class\n",
            "Call me Parent Class\n"
          ]
        }
      ]
    },
    {
      "cell_type": "code",
      "source": [],
      "metadata": {
        "id": "IpgBTGzMAl9p"
      },
      "execution_count": null,
      "outputs": []
    }
  ]
}