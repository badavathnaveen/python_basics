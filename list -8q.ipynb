{
  "nbformat": 4,
  "nbformat_minor": 0,
  "metadata": {
    "colab": {
      "provenance": []
    },
    "kernelspec": {
      "name": "python3",
      "display_name": "Python 3"
    },
    "language_info": {
      "name": "python"
    }
  },
  "cells": [
    {
      "cell_type": "code",
      "source": [
        "'''\n",
        "1. Remove empty strings from the list of strings\n",
        "\n",
        "list1 = [\"Mike\", \"\", \"Emma\", \"Kelly\", \"\", \"Brad\"]\n",
        "'''\n",
        "a = [\"Mike\", \"\", \"Emma\", \"Kelly\", \"\", \"Brad\"]\n",
        "b = []\n",
        "for i in a:\n",
        "  if i != \"\":\n",
        "    b.append(i)\n",
        "print (b)"
      ],
      "metadata": {
        "colab": {
          "base_uri": "https://localhost:8080/"
        },
        "id": "gvMpx_w1IXgT",
        "outputId": "27b44e80-d7f1-4584-e0ae-f1a02c880d3e"
      },
      "execution_count": null,
      "outputs": [
        {
          "output_type": "stream",
          "name": "stdout",
          "text": [
            "['Mike', 'Emma', 'Kelly', 'Brad']\n"
          ]
        }
      ]
    },
    {
      "cell_type": "code",
      "source": [
        "'''\n",
        "2. list1 = [10, 20, [300, 400, [5000, 6000], 500], 30, 40] append 7000 to the list\n",
        "\n",
        "output:\n",
        "\n",
        "[10, 20, [300, 400, [5000, 6000, 7000], 500], 30, 40]\n",
        "'''\n",
        "list1 = [10, 20, [300, 400, [5000, 6000], 500], 30, 40]\n",
        "list1[2][2].append(7000)\n",
        "print(list1)"
      ],
      "metadata": {
        "colab": {
          "base_uri": "https://localhost:8080/"
        },
        "id": "Zbs_DiGhIhue",
        "outputId": "0fadf4b0-5594-478a-b1d4-17d93763ad13"
      },
      "execution_count": null,
      "outputs": [
        {
          "output_type": "stream",
          "name": "stdout",
          "text": [
            "[10, 20, [300, 400, [5000, 6000, 7000], 500], 30, 40]\n"
          ]
        }
      ]
    },
    {
      "cell_type": "code",
      "source": [
        "'''\n",
        "3.  Replace list’s item with new value if found\n",
        "    You have given a Python list. Write a program to find value 20 in the list,\n",
        "    and if it is present, replace it with 200. Only update the first occurrence of an item.\n",
        "'''\n",
        "a = [10, 30, 40, 20, 50, 60, 100, 70, 20, 30]\n",
        "for i in range(0, len(a)):\n",
        "  if a[i] == 20:\n",
        "    a[i] = 200\n",
        "    break\n",
        "print (a)"
      ],
      "metadata": {
        "colab": {
          "base_uri": "https://localhost:8080/"
        },
        "id": "fqwQHltYIurb",
        "outputId": "20b157fb-e024-432a-9bce-241f87bef33b"
      },
      "execution_count": null,
      "outputs": [
        {
          "output_type": "stream",
          "name": "stdout",
          "text": [
            "[10, 30, 40, 200, 50, 60, 100, 70, 20, 30]\n"
          ]
        }
      ]
    },
    {
      "cell_type": "code",
      "source": [
        "'''\n",
        "4. Remove all occurrences of a specific item from a list.\n",
        "Given a Python list, write a program to remove all occurrences of item 20\n",
        "'''\n",
        "a = [10, 30, 40, 20, 50, 60, 100, 70, 20, 30]\n",
        "for i in a:\n",
        "  if i == 20:\n",
        "    a.remove(i)\n",
        "    break\n",
        "print(a)"
      ],
      "metadata": {
        "colab": {
          "base_uri": "https://localhost:8080/"
        },
        "id": "UOdAjpSCJEAa",
        "outputId": "10e4712b-0129-4b1f-91ad-b5a906078efa"
      },
      "execution_count": 9,
      "outputs": [
        {
          "output_type": "stream",
          "name": "stdout",
          "text": [
            "[10, 30, 40, 50, 60, 100, 70, 20, 30]\n"
          ]
        }
      ]
    },
    {
      "cell_type": "code",
      "source": [
        "'''\n",
        "5.\n",
        "name = ['Snowball', 'Chewy', 'Bubbles', 'Gruff']\n",
        "animal = ['Cat', 'Dog', 'Fish', 'Goat']\n",
        "age = [1, 2, 2, 6]\n",
        "\n",
        "Snowball cat is 1\n",
        "'''\n",
        "name = ['Snowball', 'Chewy', 'Bubbles', 'Gruff']\n",
        "animal = ['Cat', 'Dog', 'Fish', 'Goat']\n",
        "age = [1, 2, 2, 6]\n",
        "\n",
        "for x,y,z in zip(name,animal,age):\n",
        "  print(f'{x} {y} is {z}')"
      ],
      "metadata": {
        "colab": {
          "base_uri": "https://localhost:8080/"
        },
        "id": "1euw2PWFS0j8",
        "outputId": "4cf0276d-c62a-4745-b1e7-91147ce907a1"
      },
      "execution_count": null,
      "outputs": [
        {
          "output_type": "stream",
          "name": "stdout",
          "text": [
            "Snowball Cat is 1\n",
            "Chewy Dog is 2\n",
            "Bubbles Fish is 2\n",
            "Gruff Goat is 6\n"
          ]
        }
      ]
    },
    {
      "cell_type": "code",
      "source": [
        "'''\n",
        "6. list1 = [\"M\", \"na\", \"i\", \"Ke\"]\n",
        "   list2 = [\"y\", \"me\", \"s\", \"lly\"]\n",
        "\n",
        "Write a python code to concatenate two list based on index\n",
        "'''\n",
        "list1 = [\"M\", \"na\", \"i\",\"Ke\"]\n",
        "list2 = [\"y\",\"me\",\"s\",\"lly\"]\n",
        "a = []\n",
        "for i,j in zip(list1, list2):\n",
        "  y= i + j\n",
        "  a.append(y)\n",
        "\" \".join(a)"
      ],
      "metadata": {
        "colab": {
          "base_uri": "https://localhost:8080/",
          "height": 35
        },
        "id": "iB9-0iumSHV3",
        "outputId": "68103782-d8b0-4676-c942-42f01b1bb8ba"
      },
      "execution_count": null,
      "outputs": [
        {
          "output_type": "execute_result",
          "data": {
            "text/plain": [
              "'My name is Kelly'"
            ],
            "application/vnd.google.colaboratory.intrinsic+json": {
              "type": "string"
            }
          },
          "metadata": {},
          "execution_count": 7
        }
      ]
    },
    {
      "cell_type": "code",
      "source": [
        "'''\n",
        "7. Python code\n",
        "\n",
        "list1 = [\"Hello\",\"take\"]\n",
        "list2 = [\"Dear\",\"son\"]\n",
        "\n",
        "Output:\n",
        "\n",
        "['Hello Dear', 'Hello son', 'take Dear', 'take son']\n",
        "'''\n",
        "list1 = [\"Hello\",\"take\"]\n",
        "list2= [\"Dear\",\"Son\"]\n",
        "a = []\n",
        "for i in list1:\n",
        "  for j in list2:\n",
        "    y =i+\" \"+j\n",
        "    a.append(y)\n",
        "print(a)"
      ],
      "metadata": {
        "colab": {
          "base_uri": "https://localhost:8080/"
        },
        "id": "TKF2UnSUKneH",
        "outputId": "a381807c-6dd5-4edb-af98-c86fa8e0d899"
      },
      "execution_count": null,
      "outputs": [
        {
          "output_type": "stream",
          "name": "stdout",
          "text": [
            "['Hello Dear', 'Hello Son', 'take Dear', 'take Son']\n"
          ]
        }
      ]
    },
    {
      "cell_type": "code",
      "source": [
        "'''\n",
        "8. list1 = [10,20,30,40]\n",
        "   list2 = [100,200,300,400]\n",
        "\n",
        "Output:\n",
        "10 400\n",
        "20 300\n",
        "30 200\n",
        "40 100\n",
        "'''\n",
        "list1 = [10,20,30,40]\n",
        "list2 = [100,200,300,400]\n",
        "rl2 = list2[::-1]\n",
        "for i,j in zip (list1, rl2):\n",
        "  print (i,j)"
      ],
      "metadata": {
        "colab": {
          "base_uri": "https://localhost:8080/"
        },
        "id": "21bTr62JJel8",
        "outputId": "741ad954-b2e1-49df-c62f-6c7bb9deebf2"
      },
      "execution_count": null,
      "outputs": [
        {
          "output_type": "stream",
          "name": "stdout",
          "text": [
            "10 400\n",
            "20 300\n",
            "30 200\n",
            "40 100\n"
          ]
        }
      ]
    },
    {
      "cell_type": "code",
      "source": [],
      "metadata": {
        "id": "s_GfLCMKSZrj"
      },
      "execution_count": null,
      "outputs": []
    }
  ]
}